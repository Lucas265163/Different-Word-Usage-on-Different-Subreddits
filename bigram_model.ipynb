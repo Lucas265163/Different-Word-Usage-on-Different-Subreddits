{
 "cells": [
  {
   "cell_type": "code",
   "execution_count": 1,
   "id": "e6a6c5f4",
   "metadata": {},
   "outputs": [
    {
     "name": "stdout",
     "output_type": "stream",
     "text": [
      "Pattern: ['processed_comments_1/democrats\\\\democrats_batch1.pkl', 'processed_comments_1/democrats\\\\democrats_batch2.pkl']\n",
      "Loading 2 files for subreddit: democrats\n",
      "Pattern: ['processed_comments_1/republican\\\\republican_batch1.pkl', 'processed_comments_1/republican\\\\republican_batch2.pkl']\n",
      "Loading 2 files for subreddit: republican\n",
      "Pattern: ['processed_comments_1/conservative\\\\conservative_batch1.pkl', 'processed_comments_1/conservative\\\\conservative_batch10.pkl', 'processed_comments_1/conservative\\\\conservative_batch11.pkl', 'processed_comments_1/conservative\\\\conservative_batch12.pkl', 'processed_comments_1/conservative\\\\conservative_batch13.pkl', 'processed_comments_1/conservative\\\\conservative_batch14.pkl', 'processed_comments_1/conservative\\\\conservative_batch15.pkl', 'processed_comments_1/conservative\\\\conservative_batch16.pkl', 'processed_comments_1/conservative\\\\conservative_batch17.pkl', 'processed_comments_1/conservative\\\\conservative_batch18.pkl', 'processed_comments_1/conservative\\\\conservative_batch19.pkl', 'processed_comments_1/conservative\\\\conservative_batch2.pkl', 'processed_comments_1/conservative\\\\conservative_batch3.pkl', 'processed_comments_1/conservative\\\\conservative_batch4.pkl', 'processed_comments_1/conservative\\\\conservative_batch5.pkl', 'processed_comments_1/conservative\\\\conservative_batch6.pkl', 'processed_comments_1/conservative\\\\conservative_batch7.pkl', 'processed_comments_1/conservative\\\\conservative_batch8.pkl', 'processed_comments_1/conservative\\\\conservative_batch9.pkl']\n",
      "Loading 19 files for subreddit: conservative\n",
      "Pattern: ['processed_comments_1/liberal\\\\liberal_batch1.pkl']\n",
      "Loading 1 files for subreddit: liberal\n",
      "Total sentences for bigram training: 22487746\n",
      "Global bigram model saved to models/bigram/political_bigram_1.phr\n"
     ]
    }
   ],
   "source": [
    "import glob\n",
    "import pickle\n",
    "from gensim.models.phrases import Phrases, Phraser\n",
    "import os\n",
    "    \n",
    "def train_and_save_global_bigram_model(subreddits, base_data_dir, output_path, min_count=10, threshold=10):\n",
    "    all_sentences = []\n",
    "    for subreddit in subreddits:\n",
    "        pattern = f\"{base_data_dir}/{subreddit}/{subreddit}_batch*.pkl\"\n",
    "        files = sorted(glob.glob(pattern))\n",
    "        print(f\"Pattern: {files}\")\n",
    "        print(f\"Loading {len(files)} files for subreddit: {subreddit}\")\n",
    "        for file_path in files:\n",
    "            try:\n",
    "                with open(file_path, \"rb\") as f:\n",
    "                    comments = pickle.load(f)\n",
    "                for comment in comments:\n",
    "                    if \"processed_text\" in comment:\n",
    "                        all_sentences.append(comment[\"processed_text\"])\n",
    "            except Exception as e:\n",
    "                print(f\"Error loading {file_path}: {e}\")\n",
    "\n",
    "    print(f\"Total sentences for bigram training: {len(all_sentences)}\")\n",
    "    phrases = Phrases(all_sentences, min_count=min_count, threshold=threshold)\n",
    "    bigram_model = Phraser(phrases)\n",
    "    bigram_model.save(output_path)\n",
    "    print(f\"Global bigram model saved to {output_path}\")\n",
    "\n",
    "subreddits = [\"democrats\", \"republican\", \"conservative\", \"liberal\"]\n",
    "\n",
    "output_dir = \"models/bigram\"\n",
    "os.makedirs(output_dir, exist_ok=True)\n",
    "output_path = f\"{output_dir}/political_bigram_1.phr\"\n",
    "base_data_dir = \"processed_comments_1\"\n",
    "\n",
    "train_and_save_global_bigram_model(\n",
    "    subreddits,\n",
    "    base_data_dir=base_data_dir,\n",
    "    output_path=output_path,\n",
    "    min_count=10,\n",
    "    threshold=10\n",
    ")"
   ]
  }
 ],
 "metadata": {
  "kernelspec": {
   "display_name": ".venv (3.11.9)",
   "language": "python",
   "name": "python3"
  },
  "language_info": {
   "codemirror_mode": {
    "name": "ipython",
    "version": 3
   },
   "file_extension": ".py",
   "mimetype": "text/x-python",
   "name": "python",
   "nbconvert_exporter": "python",
   "pygments_lexer": "ipython3",
   "version": "3.11.9"
  }
 },
 "nbformat": 4,
 "nbformat_minor": 5
}
