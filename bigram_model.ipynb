{
 "cells": [
  {
   "cell_type": "code",
   "execution_count": 1,
   "id": "aadcda80",
   "metadata": {},
   "outputs": [
    {
     "name": "stdout",
     "output_type": "stream",
     "text": [
      "Pattern: ['processed_comments_1/democrats\\\\democrats_batch1.pkl', 'processed_comments_1/democrats\\\\democrats_batch2.pkl']\n",
      "Loading 2 files for subreddit: democrats\n",
      "Pattern: ['processed_comments_1/republican\\\\republican_batch1.pkl', 'processed_comments_1/republican\\\\republican_batch2.pkl']\n",
      "Loading 2 files for subreddit: republican\n",
      "Pattern: ['processed_comments_1/conservative\\\\conservative_batch1.pkl', 'processed_comments_1/conservative\\\\conservative_batch10.pkl', 'processed_comments_1/conservative\\\\conservative_batch11.pkl', 'processed_comments_1/conservative\\\\conservative_batch12.pkl', 'processed_comments_1/conservative\\\\conservative_batch13.pkl', 'processed_comments_1/conservative\\\\conservative_batch14.pkl', 'processed_comments_1/conservative\\\\conservative_batch15.pkl', 'processed_comments_1/conservative\\\\conservative_batch16.pkl', 'processed_comments_1/conservative\\\\conservative_batch17.pkl', 'processed_comments_1/conservative\\\\conservative_batch18.pkl', 'processed_comments_1/conservative\\\\conservative_batch19.pkl', 'processed_comments_1/conservative\\\\conservative_batch2.pkl', 'processed_comments_1/conservative\\\\conservative_batch3.pkl', 'processed_comments_1/conservative\\\\conservative_batch4.pkl', 'processed_comments_1/conservative\\\\conservative_batch5.pkl', 'processed_comments_1/conservative\\\\conservative_batch6.pkl', 'processed_comments_1/conservative\\\\conservative_batch7.pkl', 'processed_comments_1/conservative\\\\conservative_batch8.pkl', 'processed_comments_1/conservative\\\\conservative_batch9.pkl']\n",
      "Loading 19 files for subreddit: conservative\n",
      "Pattern: ['processed_comments_1/liberal\\\\liberal_batch1.pkl']\n",
      "Loading 1 files for subreddit: liberal\n",
      "Pattern: ['processed_comments_1/technology\\\\technology_batch1.pkl', 'processed_comments_1/technology\\\\technology_batch10.pkl', 'processed_comments_1/technology\\\\technology_batch11.pkl', 'processed_comments_1/technology\\\\technology_batch12.pkl', 'processed_comments_1/technology\\\\technology_batch13.pkl', 'processed_comments_1/technology\\\\technology_batch14.pkl', 'processed_comments_1/technology\\\\technology_batch15.pkl', 'processed_comments_1/technology\\\\technology_batch16.pkl', 'processed_comments_1/technology\\\\technology_batch17.pkl', 'processed_comments_1/technology\\\\technology_batch18.pkl', 'processed_comments_1/technology\\\\technology_batch19.pkl', 'processed_comments_1/technology\\\\technology_batch2.pkl', 'processed_comments_1/technology\\\\technology_batch20.pkl', 'processed_comments_1/technology\\\\technology_batch21.pkl', 'processed_comments_1/technology\\\\technology_batch22.pkl', 'processed_comments_1/technology\\\\technology_batch23.pkl', 'processed_comments_1/technology\\\\technology_batch24.pkl', 'processed_comments_1/technology\\\\technology_batch25.pkl', 'processed_comments_1/technology\\\\technology_batch26.pkl', 'processed_comments_1/technology\\\\technology_batch27.pkl', 'processed_comments_1/technology\\\\technology_batch28.pkl', 'processed_comments_1/technology\\\\technology_batch29.pkl', 'processed_comments_1/technology\\\\technology_batch3.pkl', 'processed_comments_1/technology\\\\technology_batch30.pkl', 'processed_comments_1/technology\\\\technology_batch31.pkl', 'processed_comments_1/technology\\\\technology_batch4.pkl', 'processed_comments_1/technology\\\\technology_batch5.pkl', 'processed_comments_1/technology\\\\technology_batch6.pkl', 'processed_comments_1/technology\\\\technology_batch7.pkl', 'processed_comments_1/technology\\\\technology_batch8.pkl', 'processed_comments_1/technology\\\\technology_batch9.pkl']\n",
      "Loading 31 files for subreddit: technology\n",
      "Pattern: ['processed_comments_1/cooking\\\\cooking_batch1.pkl', 'processed_comments_1/cooking\\\\cooking_batch10.pkl', 'processed_comments_1/cooking\\\\cooking_batch2.pkl', 'processed_comments_1/cooking\\\\cooking_batch3.pkl', 'processed_comments_1/cooking\\\\cooking_batch4.pkl', 'processed_comments_1/cooking\\\\cooking_batch5.pkl', 'processed_comments_1/cooking\\\\cooking_batch6.pkl', 'processed_comments_1/cooking\\\\cooking_batch7.pkl', 'processed_comments_1/cooking\\\\cooking_batch8.pkl', 'processed_comments_1/cooking\\\\cooking_batch9.pkl']\n",
      "Loading 10 files for subreddit: cooking\n",
      "Pattern: ['processed_comments_1/movies\\\\movies_batch1.pkl', 'processed_comments_1/movies\\\\movies_batch10.pkl', 'processed_comments_1/movies\\\\movies_batch11.pkl', 'processed_comments_1/movies\\\\movies_batch12.pkl', 'processed_comments_1/movies\\\\movies_batch13.pkl', 'processed_comments_1/movies\\\\movies_batch14.pkl', 'processed_comments_1/movies\\\\movies_batch15.pkl', 'processed_comments_1/movies\\\\movies_batch16.pkl', 'processed_comments_1/movies\\\\movies_batch17.pkl', 'processed_comments_1/movies\\\\movies_batch18.pkl', 'processed_comments_1/movies\\\\movies_batch19.pkl', 'processed_comments_1/movies\\\\movies_batch2.pkl', 'processed_comments_1/movies\\\\movies_batch20.pkl', 'processed_comments_1/movies\\\\movies_batch21.pkl', 'processed_comments_1/movies\\\\movies_batch22.pkl', 'processed_comments_1/movies\\\\movies_batch23.pkl', 'processed_comments_1/movies\\\\movies_batch24.pkl', 'processed_comments_1/movies\\\\movies_batch25.pkl', 'processed_comments_1/movies\\\\movies_batch26.pkl', 'processed_comments_1/movies\\\\movies_batch27.pkl', 'processed_comments_1/movies\\\\movies_batch28.pkl', 'processed_comments_1/movies\\\\movies_batch29.pkl', 'processed_comments_1/movies\\\\movies_batch3.pkl', 'processed_comments_1/movies\\\\movies_batch30.pkl', 'processed_comments_1/movies\\\\movies_batch31.pkl', 'processed_comments_1/movies\\\\movies_batch32.pkl', 'processed_comments_1/movies\\\\movies_batch33.pkl', 'processed_comments_1/movies\\\\movies_batch34.pkl', 'processed_comments_1/movies\\\\movies_batch35.pkl', 'processed_comments_1/movies\\\\movies_batch36.pkl', 'processed_comments_1/movies\\\\movies_batch37.pkl', 'processed_comments_1/movies\\\\movies_batch38.pkl', 'processed_comments_1/movies\\\\movies_batch39.pkl', 'processed_comments_1/movies\\\\movies_batch4.pkl', 'processed_comments_1/movies\\\\movies_batch40.pkl', 'processed_comments_1/movies\\\\movies_batch41.pkl', 'processed_comments_1/movies\\\\movies_batch42.pkl', 'processed_comments_1/movies\\\\movies_batch43.pkl', 'processed_comments_1/movies\\\\movies_batch44.pkl', 'processed_comments_1/movies\\\\movies_batch45.pkl', 'processed_comments_1/movies\\\\movies_batch46.pkl', 'processed_comments_1/movies\\\\movies_batch47.pkl', 'processed_comments_1/movies\\\\movies_batch48.pkl', 'processed_comments_1/movies\\\\movies_batch49.pkl', 'processed_comments_1/movies\\\\movies_batch5.pkl', 'processed_comments_1/movies\\\\movies_batch50.pkl', 'processed_comments_1/movies\\\\movies_batch51.pkl', 'processed_comments_1/movies\\\\movies_batch52.pkl', 'processed_comments_1/movies\\\\movies_batch53.pkl', 'processed_comments_1/movies\\\\movies_batch54.pkl', 'processed_comments_1/movies\\\\movies_batch55.pkl', 'processed_comments_1/movies\\\\movies_batch56.pkl', 'processed_comments_1/movies\\\\movies_batch57.pkl', 'processed_comments_1/movies\\\\movies_batch58.pkl', 'processed_comments_1/movies\\\\movies_batch59.pkl', 'processed_comments_1/movies\\\\movies_batch6.pkl', 'processed_comments_1/movies\\\\movies_batch60.pkl', 'processed_comments_1/movies\\\\movies_batch7.pkl', 'processed_comments_1/movies\\\\movies_batch8.pkl', 'processed_comments_1/movies\\\\movies_batch9.pkl']\n",
      "Loading 60 files for subreddit: movies\n",
      "Pattern: ['processed_comments_1/books\\\\books_batch1.pkl', 'processed_comments_1/books\\\\books_batch10.pkl', 'processed_comments_1/books\\\\books_batch11.pkl', 'processed_comments_1/books\\\\books_batch12.pkl', 'processed_comments_1/books\\\\books_batch13.pkl', 'processed_comments_1/books\\\\books_batch2.pkl', 'processed_comments_1/books\\\\books_batch3.pkl', 'processed_comments_1/books\\\\books_batch4.pkl', 'processed_comments_1/books\\\\books_batch5.pkl', 'processed_comments_1/books\\\\books_batch6.pkl', 'processed_comments_1/books\\\\books_batch7.pkl', 'processed_comments_1/books\\\\books_batch8.pkl', 'processed_comments_1/books\\\\books_batch9.pkl']\n",
      "Loading 13 files for subreddit: books\n",
      "Pattern: ['processed_comments_1/personalfinance\\\\personalfinance_batch1.pkl', 'processed_comments_1/personalfinance\\\\personalfinance_batch10.pkl', 'processed_comments_1/personalfinance\\\\personalfinance_batch11.pkl', 'processed_comments_1/personalfinance\\\\personalfinance_batch12.pkl', 'processed_comments_1/personalfinance\\\\personalfinance_batch13.pkl', 'processed_comments_1/personalfinance\\\\personalfinance_batch14.pkl', 'processed_comments_1/personalfinance\\\\personalfinance_batch15.pkl', 'processed_comments_1/personalfinance\\\\personalfinance_batch16.pkl', 'processed_comments_1/personalfinance\\\\personalfinance_batch17.pkl', 'processed_comments_1/personalfinance\\\\personalfinance_batch18.pkl', 'processed_comments_1/personalfinance\\\\personalfinance_batch19.pkl', 'processed_comments_1/personalfinance\\\\personalfinance_batch2.pkl', 'processed_comments_1/personalfinance\\\\personalfinance_batch20.pkl', 'processed_comments_1/personalfinance\\\\personalfinance_batch21.pkl', 'processed_comments_1/personalfinance\\\\personalfinance_batch22.pkl', 'processed_comments_1/personalfinance\\\\personalfinance_batch3.pkl', 'processed_comments_1/personalfinance\\\\personalfinance_batch4.pkl', 'processed_comments_1/personalfinance\\\\personalfinance_batch5.pkl', 'processed_comments_1/personalfinance\\\\personalfinance_batch6.pkl', 'processed_comments_1/personalfinance\\\\personalfinance_batch7.pkl', 'processed_comments_1/personalfinance\\\\personalfinance_batch8.pkl', 'processed_comments_1/personalfinance\\\\personalfinance_batch9.pkl']\n",
      "Loading 22 files for subreddit: personalfinance\n",
      "Pattern: ['processed_comments_1/travel\\\\travel_batch1.pkl', 'processed_comments_1/travel\\\\travel_batch2.pkl', 'processed_comments_1/travel\\\\travel_batch3.pkl', 'processed_comments_1/travel\\\\travel_batch4.pkl', 'processed_comments_1/travel\\\\travel_batch5.pkl', 'processed_comments_1/travel\\\\travel_batch6.pkl', 'processed_comments_1/travel\\\\travel_batch7.pkl']\n",
      "Loading 7 files for subreddit: travel\n",
      "Total sentences for bigram training: 161120329\n",
      "Global bigram model saved to models/bigram/all_bigram_1.phr\n"
     ]
    }
   ],
   "source": [
    "import glob\n",
    "import pickle\n",
    "from gensim.models.phrases import Phrases, Phraser\n",
    "import os\n",
    "\n",
    "def train_and_save_global_bigram_model(subreddits, base_data_dir, output_path, min_count=10, threshold=10):\n",
    "    phrases = Phrases(min_count=min_count, threshold=threshold)\n",
    "    total_sentences = 0\n",
    "\n",
    "    for subreddit in subreddits:\n",
    "        pattern = f\"{base_data_dir}/{subreddit}/{subreddit}_batch*.pkl\"\n",
    "        files = sorted(glob.glob(pattern))\n",
    "        print(f\"Pattern: {files}\")\n",
    "        print(f\"Loading {len(files)} files for subreddit: {subreddit}\")\n",
    "        for file_path in files:\n",
    "            try:\n",
    "                with open(file_path, \"rb\") as f:\n",
    "                    comments = pickle.load(f)\n",
    "                batch_sentences = [\n",
    "                    comment[\"processed_text\"]\n",
    "                    for comment in comments\n",
    "                    if \"processed_text\" in comment\n",
    "                ]\n",
    "                phrases.add_vocab(batch_sentences)\n",
    "                total_sentences += len(batch_sentences)\n",
    "            except Exception as e:\n",
    "                print(f\"Error loading {file_path}: {e}\")\n",
    "\n",
    "    print(f\"Total sentences for bigram training: {total_sentences}\")\n",
    "    bigram_model = Phraser(phrases)\n",
    "    bigram_model.save(output_path)\n",
    "    print(f\"Global bigram model saved to {output_path}\")\n",
    "\n",
    "subreddits = [\"democrats\", \"republican\", \"conservative\", \"liberal\", \"technology\", \"cooking\", \"movies\", \"books\", \"personalfinance\", \"travel\"]\n",
    "\n",
    "output_dir = \"models/bigram\"\n",
    "os.makedirs(output_dir, exist_ok=True)\n",
    "output_path = f\"{output_dir}/all_bigram_1.phr\"\n",
    "base_data_dir = \"processed_comments_1\"\n",
    "\n",
    "train_and_save_global_bigram_model(\n",
    "    subreddits,\n",
    "    base_data_dir=base_data_dir,\n",
    "    output_path=output_path,\n",
    "    min_count=10,\n",
    "    threshold=10\n",
    ")"
   ]
  }
 ],
 "metadata": {
  "kernelspec": {
   "display_name": ".venv (3.11.9)",
   "language": "python",
   "name": "python3"
  },
  "language_info": {
   "codemirror_mode": {
    "name": "ipython",
    "version": 3
   },
   "file_extension": ".py",
   "mimetype": "text/x-python",
   "name": "python",
   "nbconvert_exporter": "python",
   "pygments_lexer": "ipython3",
   "version": "3.11.9"
  }
 },
 "nbformat": 4,
 "nbformat_minor": 5
}
