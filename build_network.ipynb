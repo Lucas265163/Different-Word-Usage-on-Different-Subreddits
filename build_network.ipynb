{
 "cells": [
  {
   "cell_type": "code",
   "execution_count": 1,
   "id": "119fee0a",
   "metadata": {},
   "outputs": [],
   "source": [
    "\n",
    "import gensim\n",
    "import json\n",
    "import csv\n",
    "import pandas as pd\n"
   ]
  },
  {
   "cell_type": "code",
   "execution_count": 2,
   "id": "b4b5d1c4",
   "metadata": {},
   "outputs": [
    {
     "ename": "NameError",
     "evalue": "name 'gensim' is not defined",
     "output_type": "error",
     "traceback": [
      "\u001b[31m---------------------------------------------------------------------------\u001b[39m",
      "\u001b[31mNameError\u001b[39m                                 Traceback (most recent call last)",
      "\u001b[36mCell\u001b[39m\u001b[36m \u001b[39m\u001b[32mIn[2]\u001b[39m\u001b[32m, line 1\u001b[39m\n\u001b[32m----> \u001b[39m\u001b[32m1\u001b[39m dem_model = \u001b[43mgensim\u001b[49m.models.Word2Vec.load(\u001b[33m\"\u001b[39m\u001b[33mmodels/reddit_word2vec_10_10_democrats_2021_2024.model\u001b[39m\u001b[33m\"\u001b[39m)\n\u001b[32m      2\u001b[39m rep_model = gensim.models.Word2Vec.load(\u001b[33m\"\u001b[39m\u001b[33mmodels/reddit_word2vec_republican_10_2021_2024.model\u001b[39m\u001b[33m\"\u001b[39m)\n\u001b[32m      4\u001b[39m \u001b[38;5;28;01mwith\u001b[39;00m \u001b[38;5;28mopen\u001b[39m(\u001b[33m\"\u001b[39m\u001b[33moutput/dem_context_10_10_list.csv\u001b[39m\u001b[33m\"\u001b[39m, \u001b[33m\"\u001b[39m\u001b[33mw\u001b[39m\u001b[33m\"\u001b[39m, encoding=\u001b[33m\"\u001b[39m\u001b[33mutf-8\u001b[39m\u001b[33m\"\u001b[39m, newline=\u001b[33m'\u001b[39m\u001b[33m'\u001b[39m) \u001b[38;5;28;01mas\u001b[39;00m f:\n",
      "\u001b[31mNameError\u001b[39m: name 'gensim' is not defined"
     ]
    }
   ],
   "source": [
    "\n",
    "dem_model = gensim.models.Word2Vec.load(\"models/reddit_word2vec_10_10_democrats_2021_2024.model\")\n",
    "rep_model = gensim.models.Word2Vec.load(\"models/reddit_word2vec_republican_10_2021_2024.model\")\n",
    "\n",
    "with open(\"output/dem_context_10_10_list.csv\", \"w\", encoding=\"utf-8\", newline='') as f:\n",
    "    writer = csv.writer(f)\n",
    "    writer.writerow([\"source\", \"target\", \"weight\"])\n",
    "    for word in dem_model.wv.index_to_key:\n",
    "        neighbors = dem_model.wv.most_similar(word, topn=5)\n",
    "        for neighbor, similarity in neighbors:\n",
    "            writer.writerow([word, neighbor, similarity])\n",
    "\n",
    "print(\"Edge list with weights saved to dem_context_edge_list.csv\")"
   ]
  },
  {
   "cell_type": "code",
   "execution_count": 2,
   "id": "e67931a7",
   "metadata": {},
   "outputs": [],
   "source": [
    "# dem_5_5_model = gensim.models.Word2Vec.load(\"models/reddit_word2vec_5_5_filterd_democrats_2021_2024.model\")\n",
    "# rep_5_5_model = gensim.models.Word2Vec.load(\"models/reddit_word2vec_5_5_filterd_republican_2021_2024.model\")\n",
    "# dem_10_10_model = gensim.models.Word2Vec.load(\"models/reddit_word2vec_10_10_filterd_democrats_2021_2024.model\")\n",
    "# rep_10_10_model = gensim.models.Word2Vec.load(\"models/reddit_word2vec_10_10_filterd_republican_2021_2024.model\")\n",
    "# dem_20_20_model = gensim.models.Word2Vec.load(\"models/reddit_word2vec_20_20_filterd_democrats_2021_2024.model\")\n",
    "# rep_20_20_model = gensim.models.Word2Vec.load(\"models/reddit_word2vec_20_20_filterd_republican_2021_2024.model\")\n",
    "# dem_50_50_model = gensim.models.Word2Vec.load(\"models/reddit_word2vec_50_50_filterd_democrats_2021_2024.model\")\n",
    "# rep_50_50_model = gensim.models.Word2Vec.load(\"models/reddit_word2vec_50_50_filterd_republican_2021_2024.model\")\n",
    "# dem_10_10_with_num_model = gensim.models.Word2Vec.load(\"models/reddit_word2vec_10_10_democrats_2021_2024.model\")\n",
    "# rep_10_10_with_num_model = gensim.models.Word2Vec.load(\"models/reddit_word2vec_10_10_republican_2021_2024.model\")\n",
    "dem_10_10_v4_model = gensim.models.Word2Vec.load(\"models/model_v4/reddit_word2vec_10_10_democrats_2021_2024.model\")\n",
    "rep_10_10_v4_model = gensim.models.Word2Vec.load(\"models/model_v4/reddit_word2vec_10_10_republican_2021_2024.model\")\n"
   ]
  },
  {
   "cell_type": "code",
   "execution_count": 3,
   "id": "700ee732",
   "metadata": {},
   "outputs": [],
   "source": [
    "models = {\n",
    "    # \"dem_5_5\": dem_5_5_model,\n",
    "    # \"rep_5_5\": rep_5_5_model,\n",
    "    # \"dem_10_10\": dem_10_10_model,\n",
    "    # \"rep_10_10\": rep_10_10_model,\n",
    "    # \"dem_20_20\": dem_20_20_model,\n",
    "    # \"rep_20_20\": rep_20_20_model,\n",
    "    # \"dem_50_50\": dem_50_50_model,\n",
    "    # \"rep_50_50\": rep_50_50_model,\n",
    "    # \"dem_10_10_with_num\": dem_10_10_with_num_model,\n",
    "    # \"rep_10_10_with_num\": rep_10_10_with_num_model\n",
    "    \"dem_10_10_v4\": dem_10_10_v4_model,\n",
    "    \"rep_10_10_v4\": rep_10_10_v4_model\n",
    "}\n",
    "\n",
    "for name, model in models.items():\n",
    "    out_path = f\"output/v4/{name}_list.csv\"\n",
    "    edges = []\n",
    "    for word in model.wv.index_to_key:\n",
    "        neighbors = model.wv.most_similar(word, topn=5)\n",
    "        for neighbor, similarity in neighbors:\n",
    "            edges.append((word, neighbor, similarity))\n",
    "    # Sort edges by weight (similarity) descending\n",
    "    edges.sort(key=lambda x: x[2], reverse=True)\n",
    "    with open(out_path, \"w\", encoding=\"utf-8\", newline='') as f:\n",
    "        writer = csv.writer(f)\n",
    "        writer.writerow([\"source\", \"target\", \"weight\"])\n",
    "        for edge in edges:\n",
    "            writer.writerow(edge)"
   ]
  },
  {
   "cell_type": "code",
   "execution_count": null,
   "id": "0a1f8fd6",
   "metadata": {},
   "outputs": [],
   "source": [
    "dem_5_5 = pd.read_csv('output/dem_5_5_list.csv')\n",
    "dem_5_5 = dem_5_5.sort_values(by='weight', ascending=False)\n",
    "dem_5_5.head(20)"
   ]
  }
 ],
 "metadata": {
  "kernelspec": {
   "display_name": ".venv (3.11.9)",
   "language": "python",
   "name": "python3"
  },
  "language_info": {
   "codemirror_mode": {
    "name": "ipython",
    "version": 3
   },
   "file_extension": ".py",
   "mimetype": "text/x-python",
   "name": "python",
   "nbconvert_exporter": "python",
   "pygments_lexer": "ipython3",
   "version": "3.11.9"
  }
 },
 "nbformat": 4,
 "nbformat_minor": 5
}
