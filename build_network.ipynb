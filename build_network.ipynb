{
 "cells": [
  {
   "cell_type": "code",
   "execution_count": 3,
   "id": "119fee0a",
   "metadata": {},
   "outputs": [],
   "source": [
    "\n",
    "import gensim\n",
    "import json\n",
    "import csv\n",
    "\n",
    "dem_model = gensim.models.Word2Vec.load(\"reddit_word2vec_democrats_2021_2024.model\")\n",
    "rep_model = gensim.models.Word2Vec.load(\"reddit_word2vec_republican_2021_2024.model\")\n"
   ]
  },
  {
   "cell_type": "code",
   "execution_count": 9,
   "id": "c639b662",
   "metadata": {},
   "outputs": [
    {
     "name": "stdout",
     "output_type": "stream",
     "text": [
      "Network saved to dem_context_network.json\n"
     ]
    }
   ],
   "source": [
    "# Load your Word2Vec model (update the path as needed)\n",
    "model = gensim.models.Word2Vec.load(\"reddit_word2vec_democrats_2021_2024.model\")\n",
    "\n",
    "network = {}\n",
    "\n",
    "for word in model.wv.index_to_key:  # For gensim >=4.0, use 'index_to_key'\n",
    "    similar_words = [w for w, _ in model.wv.most_similar(word, topn=5)]\n",
    "    network[word] = similar_words\n",
    "\n",
    "# Save to JSON\n",
    "with open(\"dem_context_network_2021_2024.json\", \"w\", encoding=\"utf-8\") as f:\n",
    "    json.dump(network, f, ensure_ascii=False, indent=2)\n",
    "\n",
    "print(\"Network saved to dem_context_network.json\")"
   ]
  },
  {
   "cell_type": "code",
   "execution_count": 7,
   "id": "5af9b310",
   "metadata": {},
   "outputs": [
    {
     "name": "stdout",
     "output_type": "stream",
     "text": [
      "Network saved to rep_context_network.json\n"
     ]
    }
   ],
   "source": [
    "# Load your Word2Vec model (update the path as needed)\n",
    "model = gensim.models.Word2Vec.load(\"reddit_word2vec_republican_2021_2024.model\")\n",
    "\n",
    "network = {}\n",
    "\n",
    "for word in model.wv.index_to_key:  # For gensim >=4.0, use 'index_to_key'\n",
    "    similar_words = [w for w, _ in model.wv.most_similar(word, topn=5)]\n",
    "    network[word] = similar_words\n",
    "\n",
    "# Save to JSON\n",
    "with open(\"rep_context_network_2021_2024.json\", \"w\", encoding=\"utf-8\") as f:\n",
    "    json.dump(network, f, ensure_ascii=False, indent=2)\n",
    "\n",
    "print(\"Network saved to rep_context_network.json\")"
   ]
  },
  {
   "cell_type": "code",
   "execution_count": 2,
   "id": "b4b5d1c4",
   "metadata": {},
   "outputs": [
    {
     "name": "stdout",
     "output_type": "stream",
     "text": [
      "Edge list with weights saved to dem_context_edge_list.csv\n"
     ]
    }
   ],
   "source": [
    "with open(\"dem_context_edge_list.csv\", \"w\", encoding=\"utf-8\", newline='') as f:\n",
    "    writer = csv.writer(f)\n",
    "    writer.writerow([\"source\", \"target\", \"weight\"])\n",
    "    for word in dem_model.wv.index_to_key:\n",
    "        neighbors = dem_model.wv.most_similar(word, topn=5)\n",
    "        for neighbor, similarity in neighbors:\n",
    "            writer.writerow([word, neighbor, similarity])\n",
    "\n",
    "print(\"Edge list with weights saved to dem_context_edge_list.csv\")"
   ]
  },
  {
   "cell_type": "code",
   "execution_count": null,
   "id": "c92460bc",
   "metadata": {},
   "outputs": [
    {
     "name": "stdout",
     "output_type": "stream",
     "text": [
      "Edge list with weights saved to rep_context_edge_list.csv\n"
     ]
    },
    {
     "ename": "",
     "evalue": "",
     "output_type": "error",
     "traceback": [
      "\u001b[1;31mThe Kernel crashed while executing code in the current cell or a previous cell. \n",
      "\u001b[1;31mPlease review the code in the cell(s) to identify a possible cause of the failure. \n",
      "\u001b[1;31mClick <a href='https://aka.ms/vscodeJupyterKernelCrash'>here</a> for more info. \n",
      "\u001b[1;31mView Jupyter <a href='command:jupyter.viewOutput'>log</a> for further details."
     ]
    }
   ],
   "source": [
    "with open(\"rep_context_edge_list.csv\", \"w\", encoding=\"utf-8\", newline='') as f:\n",
    "    writer = csv.writer(f)\n",
    "    writer.writerow([\"source\", \"target\", \"weight\"])\n",
    "    for word in rep_model.wv.index_to_key:\n",
    "        neighbors = rep_model.wv.most_similar(word, topn=5)\n",
    "        for neighbor, similarity in neighbors:\n",
    "            writer.writerow([word, neighbor, similarity])\n",
    "\n",
    "print(\"Edge list with weights saved to rep_context_edge_list.csv\")"
   ]
  }
 ],
 "metadata": {
  "kernelspec": {
   "display_name": ".venv (3.11.9)",
   "language": "python",
   "name": "python3"
  },
  "language_info": {
   "codemirror_mode": {
    "name": "ipython",
    "version": 3
   },
   "file_extension": ".py",
   "mimetype": "text/x-python",
   "name": "python",
   "nbconvert_exporter": "python",
   "pygments_lexer": "ipython3",
   "version": "3.11.9"
  }
 },
 "nbformat": 4,
 "nbformat_minor": 5
}
