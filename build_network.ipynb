{
 "cells": [
  {
   "cell_type": "code",
   "execution_count": 7,
   "id": "119fee0a",
   "metadata": {},
   "outputs": [
    {
     "ename": "FileNotFoundError",
     "evalue": "[Errno 2] No such file or directory: 'models/reddit_word2vec_republican_10_2021_2024.model'",
     "output_type": "error",
     "traceback": [
      "\u001b[31m---------------------------------------------------------------------------\u001b[39m",
      "\u001b[31mFileNotFoundError\u001b[39m                         Traceback (most recent call last)",
      "\u001b[36mCell\u001b[39m\u001b[36m \u001b[39m\u001b[32mIn[7]\u001b[39m\u001b[32m, line 6\u001b[39m\n\u001b[32m      3\u001b[39m \u001b[38;5;28;01mimport\u001b[39;00m\u001b[38;5;250m \u001b[39m\u001b[34;01mcsv\u001b[39;00m\n\u001b[32m      5\u001b[39m dem_model = gensim.models.Word2Vec.load(\u001b[33m\"\u001b[39m\u001b[33mmodels/reddit_word2vec_10_10_democrats_2021_2024.model\u001b[39m\u001b[33m\"\u001b[39m)\n\u001b[32m----> \u001b[39m\u001b[32m6\u001b[39m rep_model = \u001b[43mgensim\u001b[49m\u001b[43m.\u001b[49m\u001b[43mmodels\u001b[49m\u001b[43m.\u001b[49m\u001b[43mWord2Vec\u001b[49m\u001b[43m.\u001b[49m\u001b[43mload\u001b[49m\u001b[43m(\u001b[49m\u001b[33;43m\"\u001b[39;49m\u001b[33;43mmodels/reddit_word2vec_republican_10_2021_2024.model\u001b[39;49m\u001b[33;43m\"\u001b[39;49m\u001b[43m)\u001b[49m\n",
      "\u001b[36mFile \u001b[39m\u001b[32mc:\\Users\\cyyua\\DS\\word_embedding\\.venv\\Lib\\site-packages\\gensim\\models\\word2vec.py:1953\u001b[39m, in \u001b[36mWord2Vec.load\u001b[39m\u001b[34m(cls, rethrow, *args, **kwargs)\u001b[39m\n\u001b[32m   1934\u001b[39m \u001b[38;5;250m\u001b[39m\u001b[33;03m\"\"\"Load a previously saved :class:`~gensim.models.word2vec.Word2Vec` model.\u001b[39;00m\n\u001b[32m   1935\u001b[39m \n\u001b[32m   1936\u001b[39m \u001b[33;03mSee Also\u001b[39;00m\n\u001b[32m   (...)\u001b[39m\u001b[32m   1950\u001b[39m \n\u001b[32m   1951\u001b[39m \u001b[33;03m\"\"\"\u001b[39;00m\n\u001b[32m   1952\u001b[39m \u001b[38;5;28;01mtry\u001b[39;00m:\n\u001b[32m-> \u001b[39m\u001b[32m1953\u001b[39m     model = \u001b[38;5;28;43msuper\u001b[39;49m\u001b[43m(\u001b[49m\u001b[43mWord2Vec\u001b[49m\u001b[43m,\u001b[49m\u001b[43m \u001b[49m\u001b[38;5;28;43mcls\u001b[39;49m\u001b[43m)\u001b[49m\u001b[43m.\u001b[49m\u001b[43mload\u001b[49m\u001b[43m(\u001b[49m\u001b[43m*\u001b[49m\u001b[43margs\u001b[49m\u001b[43m,\u001b[49m\u001b[43m \u001b[49m\u001b[43m*\u001b[49m\u001b[43m*\u001b[49m\u001b[43mkwargs\u001b[49m\u001b[43m)\u001b[49m\n\u001b[32m   1954\u001b[39m     \u001b[38;5;28;01mif\u001b[39;00m \u001b[38;5;129;01mnot\u001b[39;00m \u001b[38;5;28misinstance\u001b[39m(model, Word2Vec):\n\u001b[32m   1955\u001b[39m         rethrow = \u001b[38;5;28;01mTrue\u001b[39;00m\n",
      "\u001b[36mFile \u001b[39m\u001b[32mc:\\Users\\cyyua\\DS\\word_embedding\\.venv\\Lib\\site-packages\\gensim\\utils.py:485\u001b[39m, in \u001b[36mSaveLoad.load\u001b[39m\u001b[34m(cls, fname, mmap)\u001b[39m\n\u001b[32m    481\u001b[39m logger.info(\u001b[33m\"\u001b[39m\u001b[33mloading \u001b[39m\u001b[38;5;132;01m%s\u001b[39;00m\u001b[33m object from \u001b[39m\u001b[38;5;132;01m%s\u001b[39;00m\u001b[33m\"\u001b[39m, \u001b[38;5;28mcls\u001b[39m.\u001b[34m__name__\u001b[39m, fname)\n\u001b[32m    483\u001b[39m compress, subname = SaveLoad._adapt_by_suffix(fname)\n\u001b[32m--> \u001b[39m\u001b[32m485\u001b[39m obj = \u001b[43munpickle\u001b[49m\u001b[43m(\u001b[49m\u001b[43mfname\u001b[49m\u001b[43m)\u001b[49m\n\u001b[32m    486\u001b[39m obj._load_specials(fname, mmap, compress, subname)\n\u001b[32m    487\u001b[39m obj.add_lifecycle_event(\u001b[33m\"\u001b[39m\u001b[33mloaded\u001b[39m\u001b[33m\"\u001b[39m, fname=fname)\n",
      "\u001b[36mFile \u001b[39m\u001b[32mc:\\Users\\cyyua\\DS\\word_embedding\\.venv\\Lib\\site-packages\\gensim\\utils.py:1459\u001b[39m, in \u001b[36munpickle\u001b[39m\u001b[34m(fname)\u001b[39m\n\u001b[32m   1445\u001b[39m \u001b[38;5;28;01mdef\u001b[39;00m\u001b[38;5;250m \u001b[39m\u001b[34munpickle\u001b[39m(fname):\n\u001b[32m   1446\u001b[39m \u001b[38;5;250m    \u001b[39m\u001b[33;03m\"\"\"Load object from `fname`, using smart_open so that `fname` can be on S3, HDFS, compressed etc.\u001b[39;00m\n\u001b[32m   1447\u001b[39m \n\u001b[32m   1448\u001b[39m \u001b[33;03m    Parameters\u001b[39;00m\n\u001b[32m   (...)\u001b[39m\u001b[32m   1457\u001b[39m \n\u001b[32m   1458\u001b[39m \u001b[33;03m    \"\"\"\u001b[39;00m\n\u001b[32m-> \u001b[39m\u001b[32m1459\u001b[39m     \u001b[38;5;28;01mwith\u001b[39;00m \u001b[38;5;28;43mopen\u001b[39;49m\u001b[43m(\u001b[49m\u001b[43mfname\u001b[49m\u001b[43m,\u001b[49m\u001b[43m \u001b[49m\u001b[33;43m'\u001b[39;49m\u001b[33;43mrb\u001b[39;49m\u001b[33;43m'\u001b[39;49m\u001b[43m)\u001b[49m \u001b[38;5;28;01mas\u001b[39;00m f:\n\u001b[32m   1460\u001b[39m         \u001b[38;5;28;01mreturn\u001b[39;00m _pickle.load(f, encoding=\u001b[33m'\u001b[39m\u001b[33mlatin1\u001b[39m\u001b[33m'\u001b[39m)\n",
      "\u001b[36mFile \u001b[39m\u001b[32mc:\\Users\\cyyua\\DS\\word_embedding\\.venv\\Lib\\site-packages\\smart_open\\smart_open_lib.py:170\u001b[39m, in \u001b[36mopen\u001b[39m\u001b[34m(uri, mode, buffering, encoding, errors, newline, closefd, opener, compression, transport_params)\u001b[39m\n\u001b[32m    167\u001b[39m \u001b[38;5;28;01mif\u001b[39;00m transport_params \u001b[38;5;129;01mis\u001b[39;00m \u001b[38;5;28;01mNone\u001b[39;00m:\n\u001b[32m    168\u001b[39m     transport_params = {}\n\u001b[32m--> \u001b[39m\u001b[32m170\u001b[39m fobj = \u001b[43m_shortcut_open\u001b[49m\u001b[43m(\u001b[49m\n\u001b[32m    171\u001b[39m \u001b[43m    \u001b[49m\u001b[43muri\u001b[49m\u001b[43m,\u001b[49m\n\u001b[32m    172\u001b[39m \u001b[43m    \u001b[49m\u001b[43mmode\u001b[49m\u001b[43m,\u001b[49m\n\u001b[32m    173\u001b[39m \u001b[43m    \u001b[49m\u001b[43mcompression\u001b[49m\u001b[43m=\u001b[49m\u001b[43mcompression\u001b[49m\u001b[43m,\u001b[49m\n\u001b[32m    174\u001b[39m \u001b[43m    \u001b[49m\u001b[43mbuffering\u001b[49m\u001b[43m=\u001b[49m\u001b[43mbuffering\u001b[49m\u001b[43m,\u001b[49m\n\u001b[32m    175\u001b[39m \u001b[43m    \u001b[49m\u001b[43mencoding\u001b[49m\u001b[43m=\u001b[49m\u001b[43mencoding\u001b[49m\u001b[43m,\u001b[49m\n\u001b[32m    176\u001b[39m \u001b[43m    \u001b[49m\u001b[43merrors\u001b[49m\u001b[43m=\u001b[49m\u001b[43merrors\u001b[49m\u001b[43m,\u001b[49m\n\u001b[32m    177\u001b[39m \u001b[43m    \u001b[49m\u001b[43mnewline\u001b[49m\u001b[43m=\u001b[49m\u001b[43mnewline\u001b[49m\u001b[43m,\u001b[49m\n\u001b[32m    178\u001b[39m \u001b[43m\u001b[49m\u001b[43m)\u001b[49m\n\u001b[32m    179\u001b[39m \u001b[38;5;28;01mif\u001b[39;00m fobj \u001b[38;5;129;01mis\u001b[39;00m \u001b[38;5;129;01mnot\u001b[39;00m \u001b[38;5;28;01mNone\u001b[39;00m:\n\u001b[32m    180\u001b[39m     \u001b[38;5;28;01mreturn\u001b[39;00m fobj\n",
      "\u001b[36mFile \u001b[39m\u001b[32mc:\\Users\\cyyua\\DS\\word_embedding\\.venv\\Lib\\site-packages\\smart_open\\smart_open_lib.py:368\u001b[39m, in \u001b[36m_shortcut_open\u001b[39m\u001b[34m(uri, mode, compression, buffering, encoding, errors, newline)\u001b[39m\n\u001b[32m    365\u001b[39m \u001b[38;5;28;01mif\u001b[39;00m errors \u001b[38;5;129;01mand\u001b[39;00m \u001b[33m'\u001b[39m\u001b[33mb\u001b[39m\u001b[33m'\u001b[39m \u001b[38;5;129;01mnot\u001b[39;00m \u001b[38;5;129;01min\u001b[39;00m mode:\n\u001b[32m    366\u001b[39m     open_kwargs[\u001b[33m'\u001b[39m\u001b[33merrors\u001b[39m\u001b[33m'\u001b[39m] = errors\n\u001b[32m--> \u001b[39m\u001b[32m368\u001b[39m \u001b[38;5;28;01mreturn\u001b[39;00m \u001b[43m_builtin_open\u001b[49m\u001b[43m(\u001b[49m\u001b[43mlocal_path\u001b[49m\u001b[43m,\u001b[49m\u001b[43m \u001b[49m\u001b[43mmode\u001b[49m\u001b[43m,\u001b[49m\u001b[43m \u001b[49m\u001b[43mbuffering\u001b[49m\u001b[43m=\u001b[49m\u001b[43mbuffering\u001b[49m\u001b[43m,\u001b[49m\u001b[43m \u001b[49m\u001b[43m*\u001b[49m\u001b[43m*\u001b[49m\u001b[43mopen_kwargs\u001b[49m\u001b[43m)\u001b[49m\n",
      "\u001b[31mFileNotFoundError\u001b[39m: [Errno 2] No such file or directory: 'models/reddit_word2vec_republican_10_2021_2024.model'"
     ]
    }
   ],
   "source": [
    "\n",
    "import gensim\n",
    "import json\n",
    "import csv\n",
    "\n",
    "dem_model = gensim.models.Word2Vec.load(\"models/reddit_word2vec_10_10_democrats_2021_2024.model\")\n",
    "rep_model = gensim.models.Word2Vec.load(\"models/reddit_word2vec_republican_10_2021_2024.model\")\n"
   ]
  },
  {
   "cell_type": "code",
   "execution_count": 9,
   "id": "c639b662",
   "metadata": {},
   "outputs": [
    {
     "name": "stdout",
     "output_type": "stream",
     "text": [
      "Network saved to dem_context_network.json\n"
     ]
    }
   ],
   "source": [
    "# Load your Word2Vec model (update the path as needed)\n",
    "model = gensim.models.Word2Vec.load(\"reddit_word2vec_democrats_2021_2024.model\")\n",
    "\n",
    "network = {}\n",
    "\n",
    "for word in model.wv.index_to_key:  # For gensim >=4.0, use 'index_to_key'\n",
    "    similar_words = [w for w, _ in model.wv.most_similar(word, topn=5)]\n",
    "    network[word] = similar_words\n",
    "\n",
    "# Save to JSON\n",
    "with open(\"dem_context_network_2021_2024.json\", \"w\", encoding=\"utf-8\") as f:\n",
    "    json.dump(network, f, ensure_ascii=False, indent=2)\n",
    "\n",
    "print(\"Network saved to dem_context_network.json\")"
   ]
  },
  {
   "cell_type": "code",
   "execution_count": 7,
   "id": "5af9b310",
   "metadata": {},
   "outputs": [
    {
     "name": "stdout",
     "output_type": "stream",
     "text": [
      "Network saved to rep_context_network.json\n"
     ]
    }
   ],
   "source": [
    "# Load your Word2Vec model (update the path as needed)\n",
    "model = gensim.models.Word2Vec.load(\"reddit_word2vec_republican_2021_2024.model\")\n",
    "\n",
    "network = {}\n",
    "\n",
    "for word in model.wv.index_to_key:  # For gensim >=4.0, use 'index_to_key'\n",
    "    similar_words = [w for w, _ in model.wv.most_similar(word, topn=5)]\n",
    "    network[word] = similar_words\n",
    "\n",
    "# Save to JSON\n",
    "with open(\"rep_context_network_2021_2024.json\", \"w\", encoding=\"utf-8\") as f:\n",
    "    json.dump(network, f, ensure_ascii=False, indent=2)\n",
    "\n",
    "print(\"Network saved to rep_context_network.json\")"
   ]
  },
  {
   "cell_type": "code",
   "execution_count": 8,
   "id": "b4b5d1c4",
   "metadata": {},
   "outputs": [
    {
     "name": "stdout",
     "output_type": "stream",
     "text": [
      "Edge list with weights saved to dem_context_edge_list.csv\n"
     ]
    }
   ],
   "source": [
    "with open(\"output/dem_context_10_10_list.csv\", \"w\", encoding=\"utf-8\", newline='') as f:\n",
    "    writer = csv.writer(f)\n",
    "    writer.writerow([\"source\", \"target\", \"weight\"])\n",
    "    for word in dem_model.wv.index_to_key:\n",
    "        neighbors = dem_model.wv.most_similar(word, topn=5)\n",
    "        for neighbor, similarity in neighbors:\n",
    "            writer.writerow([word, neighbor, similarity])\n",
    "\n",
    "print(\"Edge list with weights saved to dem_context_edge_list.csv\")"
   ]
  },
  {
   "cell_type": "code",
   "execution_count": null,
   "id": "c92460bc",
   "metadata": {},
   "outputs": [
    {
     "name": "stdout",
     "output_type": "stream",
     "text": [
      "Edge list with weights saved to rep_context_edge_list.csv\n"
     ]
    },
    {
     "ename": "",
     "evalue": "",
     "output_type": "error",
     "traceback": [
      "\u001b[1;31mThe Kernel crashed while executing code in the current cell or a previous cell. \n",
      "\u001b[1;31mPlease review the code in the cell(s) to identify a possible cause of the failure. \n",
      "\u001b[1;31mClick <a href='https://aka.ms/vscodeJupyterKernelCrash'>here</a> for more info. \n",
      "\u001b[1;31mView Jupyter <a href='command:jupyter.viewOutput'>log</a> for further details."
     ]
    }
   ],
   "source": [
    "with open(\"rep_context_edge_list.csv\", \"w\", encoding=\"utf-8\", newline='') as f:\n",
    "    writer = csv.writer(f)\n",
    "    writer.writerow([\"source\", \"target\", \"weight\"])\n",
    "    for word in rep_model.wv.index_to_key:\n",
    "        neighbors = rep_model.wv.most_similar(word, topn=5)\n",
    "        for neighbor, similarity in neighbors:\n",
    "            writer.writerow([word, neighbor, similarity])\n",
    "\n",
    "print(\"Edge list with weights saved to rep_context_edge_list.csv\")"
   ]
  },
  {
   "cell_type": "code",
   "execution_count": 9,
   "id": "e67931a7",
   "metadata": {},
   "outputs": [],
   "source": [
    "dem_5_5_model = gensim.models.Word2Vec.load(\"models/reddit_word2vec_5_5_filterd_democrats_2021_2024.model\")\n",
    "rep_5_5_model = gensim.models.Word2Vec.load(\"models/reddit_word2vec_5_5_filterd_republican_2021_2024.model\")\n",
    "dem_10_10_model = gensim.models.Word2Vec.load(\"models/reddit_word2vec_10_10_filterd_democrats_2021_2024.model\")\n",
    "rep_10_10_model = gensim.models.Word2Vec.load(\"models/reddit_word2vec_10_10_filterd_republican_2021_2024.model\")\n",
    "dem_20_20_model = gensim.models.Word2Vec.load(\"models/reddit_word2vec_20_20_filterd_democrats_2021_2024.model\")\n",
    "rep_20_20_model = gensim.models.Word2Vec.load(\"models/reddit_word2vec_20_20_filterd_republican_2021_2024.model\")\n",
    "dem_50_50_model = gensim.models.Word2Vec.load(\"models/reddit_word2vec_50_50_filterd_democrats_2021_2024.model\")\n",
    "rep_50_50_model = gensim.models.Word2Vec.load(\"models/reddit_word2vec_50_50_filterd_republican_2021_2024.model\")\n",
    "dem_10_10_with_num_model = gensim.models.Word2Vec.load(\"models/reddit_word2vec_10_10_democrats_2021_2024.model\")\n",
    "rep_10_10_with_num_model = gensim.models.Word2Vec.load(\"models/reddit_word2vec_10_10_republican_2021_2024.model\")"
   ]
  },
  {
   "cell_type": "code",
   "execution_count": null,
   "id": "700ee732",
   "metadata": {},
   "outputs": [],
   "source": [
    "models = {\n",
    "    \"dem_5_5\": dem_5_5_model,\n",
    "    \"rep_5_5\": rep_5_5_model,\n",
    "    \"dem_10_10\": dem_10_10_model,\n",
    "    \"rep_10_10\": rep_10_10_model,\n",
    "    \"dem_20_20\": dem_20_20_model,\n",
    "    \"rep_20_20\": rep_20_20_model,\n",
    "    \"dem_50_50\": dem_50_50_model,\n",
    "    \"rep_50_50\": rep_50_50_model,\n",
    "    \"dem_10_10_with_num\": dem_10_10_with_num_model,\n",
    "    \"rep_10_10_with_num\": rep_10_10_with_num_model\n",
    "}\n",
    "\n",
    "for name, model in models.items():\n",
    "    out_path = f\"output/{name}_list.csv\"\n",
    "    edges = []\n",
    "    for word in model.wv.index_to_key:\n",
    "        neighbors = model.wv.most_similar(word, topn=5)\n",
    "        for neighbor, similarity in neighbors:\n",
    "            edges.append((word, neighbor, similarity))\n",
    "    # Sort edges by weight (similarity) descending\n",
    "    edges.sort(key=lambda x: x[2], reverse=True)\n",
    "    with open(out_path, \"w\", encoding=\"utf-8\", newline='') as f:\n",
    "        writer = csv.writer(f)\n",
    "        writer.writerow([\"source\", \"target\", \"weight\"])\n",
    "        for edge in edges:\n",
    "            writer.writerow(edge)"
   ]
  }
 ],
 "metadata": {
  "kernelspec": {
   "display_name": ".venv (3.11.9)",
   "language": "python",
   "name": "python3"
  },
  "language_info": {
   "codemirror_mode": {
    "name": "ipython",
    "version": 3
   },
   "file_extension": ".py",
   "mimetype": "text/x-python",
   "name": "python",
   "nbconvert_exporter": "python",
   "pygments_lexer": "ipython3",
   "version": "3.11.9"
  }
 },
 "nbformat": 4,
 "nbformat_minor": 5
}
